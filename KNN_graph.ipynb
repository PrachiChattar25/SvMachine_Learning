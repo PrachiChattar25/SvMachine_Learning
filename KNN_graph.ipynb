{
 "cells": [
  {
   "cell_type": "code",
   "execution_count": 8,
   "metadata": {},
   "outputs": [
    {
     "name": "stdout",
     "output_type": "stream",
     "text": [
      "Enter the test size.1\n",
      "Actual output:\n",
      "[1 2 1 2 1 0 0 0 1 1 2 0 2 1 1]\n",
      "Predicted output through KNN algo\n",
      "[1 2 1 2 1 0 0 0 1 1 2 0 2 1 1]\n",
      "Accuracy for KNN\n",
      "1.0\n",
      "Press 1 to continue1\n",
      "Enter the test size.2\n",
      "Actual output:\n",
      "[2 1 1 0 0 1 0 1 0 2 1 0 1 2 2 1 1 1 1 2 1 2 1 1 0 0 2 0 0 0]\n",
      "Predicted output through KNN algo\n",
      "[2 1 1 0 0 1 0 1 0 2 1 0 2 2 2 1 1 1 1 2 1 2 1 1 0 0 2 0 0 0]\n",
      "Accuracy for KNN\n",
      "0.9666666666666667\n",
      "Press 1 to continue1\n",
      "Enter the test size.3\n",
      "Actual output:\n",
      "[2 2 1 0 0 2 2 0 0 1 0 1 2 0 1 2 0 0 2 1 1 2 0 0 1 0 2 0 2 2 0 1 0 0 0 2 1\n",
      " 1 1 2 1 0 2 2 2]\n",
      "Predicted output through KNN algo\n",
      "[2 2 1 0 0 2 2 0 0 1 0 1 2 0 1 2 0 0 2 1 1 2 0 0 1 0 2 0 2 2 0 2 0 0 0 2 1\n",
      " 1 1 2 1 0 2 2 1]\n",
      "Accuracy for KNN\n",
      "0.9555555555555556\n",
      "Press 1 to continue1\n",
      "Enter the test size.2\n",
      "Actual output:\n",
      "[1 1 2 2 2 0 0 2 0 1 0 0 2 0 1 2 1 1 0 1 1 1 1 1 2 2 2 1 0 2]\n",
      "Predicted output through KNN algo\n",
      "[1 1 2 2 2 0 0 2 0 1 0 0 2 0 2 2 1 1 0 1 1 1 1 1 2 2 2 1 0 2]\n",
      "Accuracy for KNN\n",
      "0.9666666666666667\n",
      "Press 1 to continue1\n",
      "Enter the test size.5\n",
      "Actual output:\n",
      "[1 1 2 1 2 2 2 0 2 2 1 1 0 2 1 0 2 1 1 2 0 1 2 2 0 1 1 1 0 0 0 1 1 0 2 1 2\n",
      " 2 0 2 2 0 1 1 2 0 1 1 0 1 2 1 1 2 0 0 2 2 1 0 2 0 0 1 1 2 1 1 2 1 2 1 0 0\n",
      " 2]\n",
      "Predicted output through KNN algo\n",
      "[1 1 2 2 2 2 2 0 2 2 1 1 0 2 1 0 2 1 1 2 0 1 2 2 0 2 1 1 0 0 0 2 1 0 2 1 2\n",
      " 2 0 2 2 0 1 2 2 0 1 1 0 1 2 2 1 2 0 0 2 2 1 0 2 0 0 1 1 2 1 1 2 1 2 1 0 0\n",
      " 2]\n",
      "Accuracy for KNN\n",
      "0.9333333333333333\n",
      "Press 1 to continue0\n"
     ]
    },
    {
     "data": {
      "image/png": "[encoded data removed]",
      "text/plain": [
       "<Figure size 432x288 with 1 Axes>"
      ]
     },
     "metadata": {},
     "output_type": "display_data"
    }
   ],
   "source": [
    "import numpy\n",
    "from sklearn.datasets import load_iris\n",
    "from sklearn import tree\n",
    "from sklearn.neighbors import KNeighborsClassifier\n",
    "from sklearn.model_selection import train_test_split\n",
    "from sklearn.metrics import accuracy_score\n",
    "import matplotlib.pyplot as plt\n",
    "iris=load_iris()\n",
    "\n",
    "#list to store different sizes \n",
    "l1=[]\n",
    "\n",
    "#list to store accuracy score for knn algo\n",
    "l2=[]\n",
    "\n",
    "choice=1\n",
    "while choice==1:\n",
    "    s=float(input(\"Enter the test size\"))\n",
    "    #splitting \n",
    "    train_iris,test_iris,train_target,test_target=train_test_split(iris.data,iris.target,test_size=s)\n",
    "    l1.append(s)\n",
    "    #calling KNN Classifier\n",
    "    knclf=KNeighborsClassifier(n_neighbors=3)\n",
    "    #data training\n",
    "    trained_knclf=knclf.fit(train_iris,train_target)\n",
    "    #predicting output\n",
    "    output_knclf=trained_knclf.predict(test_iris)\n",
    "    \n",
    "    #printing output\n",
    "    print(\"Actual output:\")\n",
    "    print(test_target)\n",
    "    print(\"Predicted output through KNN algo\")\n",
    "    print(output_knclf)\n",
    "    \n",
    "    #Checking the accuracy %\n",
    "    pct=accuracy_score(test_target,output_knclf)\n",
    "    print(\"Accuracy for KNN\")\n",
    "    print(pct)\n",
    "    l2.append(pct)\n",
    "    choice=int(input(\"Press 1 to continue\"))\n",
    "    \n",
    "#plotting the graph\n",
    "plt.xlabel(\"Actual output\")\n",
    "plt.ylabel(\"Predicted output\")\n",
    "plt.plot(l1,l2,label=\"KNN\",color=\"Red\")\n",
    "plt.show()\n",
    "\n",
    "    \n",
    "    \n",
    "    "
   ]
  },
  {
   "cell_type": "code",
   "execution_count": null,
   "metadata": {},
   "outputs": [],
   "source": [
    "1"
   ]
  },
  {
   "cell_type": "code",
   "execution_count": null,
   "metadata": {},
   "outputs": [],
   "source": []
  },
  {
   "cell_type": "code",
   "execution_count": null,
   "metadata": {},
   "outputs": [],
   "source": []
  },
  {
   "cell_type": "code",
   "execution_count": null,
   "metadata": {},
   "outputs": [],
   "source": []
  },
  {
   "cell_type": "code",
   "execution_count": null,
   "metadata": {},
   "outputs": [],
   "source": []
  },
  {
   "cell_type": "code",
   "execution_count": null,
   "metadata": {},
   "outputs": [],
   "source": []
  },
  {
   "cell_type": "code",
   "execution_count": null,
   "metadata": {},
   "outputs": [],
   "source": []
  },
  {
   "cell_type": "code",
   "execution_count": null,
   "metadata": {},
   "outputs": [],
   "source": []
  },
  {
   "cell_type": "code",
   "execution_count": null,
   "metadata": {},
   "outputs": [],
   "source": []
  }
 ],
 "metadata": {
  "kernelspec": {
   "display_name": "Python 3",
   "language": "python",
   "name": "python3"
  },
  "language_info": {
   "codemirror_mode": {
    "name": "ipython",
    "version": 3
   },
   "file_extension": ".py",
   "mimetype": "text/x-python",
   "name": "python",
   "nbconvert_exporter": "python",
   "pygments_lexer": "ipython3",
   "version": "3.5.2"
  }
 },
 "nbformat": 4,
 "nbformat_minor": 2
}
