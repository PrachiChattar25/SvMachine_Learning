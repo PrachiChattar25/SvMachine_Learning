{
 "cells": [
  {
   "cell_type": "code",
   "execution_count": 9,
   "metadata": {},
   "outputs": [
    {
     "name": "stdout",
     "output_type": "stream",
     "text": [
      "[2 2 1 1 1 0 1 2 2 1 0 2 0 1 0]\n",
      "0.9333333333333333\n"
     ]
    }
   ],
   "source": [
    "from sklearn.datasets import load_iris\n",
    "#loading iris dataset \n",
    "iris=load_iris()\n",
    "\n",
    "#training flowers feature is stored in \n",
    "iris.data\n",
    "\n",
    "#output accordingly is stored in\n",
    "iris.target\n",
    "\n",
    "#now splitting into test and train dataset\n",
    "from sklearn.model_selection import train_test_split\n",
    "\n",
    "x,y,z,a=train_test_split(iris.data,iris.target,test_size=0.1)\n",
    "'''\n",
    "Here\n",
    "x is train_iris{all feature values containing 90%}\n",
    "y is the remaining test_iris{10% of features}\n",
    "z is train_target{all labels containing 99% of iris target}\n",
    "a is test_target {remaining 10% of iris_target}\n",
    "\n",
    "'''\n",
    "#calling decision tree classifier\n",
    "\n",
    "from sklearn import tree\n",
    "dsclf=tree.DecisionTreeClassifier()\n",
    "\n",
    "#now training data with Decision\n",
    "trained=dsclf.fit(x,z)\n",
    "\n",
    "#now time for prediction\n",
    "output=trained.predict(y)\n",
    "print(output)\n",
    "\n",
    "#Checking % of accuracy\n",
    "from sklearn.metrics import accuracy_score\n",
    "check_pct=accuracy_score(a,output)\n",
    "print(check_pct)\n"
   ]
  },
  {
   "cell_type": "code",
   "execution_count": null,
   "metadata": {},
   "outputs": [],
   "source": []
  },
  {
   "cell_type": "code",
   "execution_count": null,
   "metadata": {},
   "outputs": [],
   "source": []
  }
 ],
 "metadata": {
  "kernelspec": {
   "display_name": "Python 3",
   "language": "python",
   "name": "python3"
  },
  "language_info": {
   "codemirror_mode": {
    "name": "ipython",
    "version": 3
   },
   "file_extension": ".py",
   "mimetype": "text/x-python",
   "name": "python",
   "nbconvert_exporter": "python",
   "pygments_lexer": "ipython3",
   "version": "3.5.2"
  }
 },
 "nbformat": 4,
 "nbformat_minor": 2
}
