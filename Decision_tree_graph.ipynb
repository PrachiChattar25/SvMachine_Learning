{
 "cells": [
  {
   "cell_type": "code",
   "execution_count": 15,
   "metadata": {},
   "outputs": [
    {
     "name": "stdout",
     "output_type": "stream",
     "text": [
      "-----DECISION TREE CLASIFIER-----\n",
      "Enter test size.1\n",
      "[2 1 2 1 2 1 0 0 0 2 1 1 1 0 0]\n",
      "actual output\n",
      "[2 1 2 1 2 1 0 0 0 2 1 1 1 0 0]\n",
      "1.0\n",
      "Enter test size.6\n",
      "[2 0 1 2 2 2 0 2 1 2 2 2 0 0 2 0 0 2 2 1 0 2 2 2 2 2 2 1 2 0 1 1 0 2 2 0 1\n",
      " 0 1 0 2 0 0 2 2 0 1 1 1 2 1 0 2 1 1 1 2 1 1 0 2 2 0 1 0 0 1 0 2 2 1 0 2 2\n",
      " 1 2 1 1 0 1 1 2 0 0 2 0 0 0 1 1]\n",
      "actual output\n",
      "[2 0 1 2 2 1 0 2 1 2 2 2 0 0 2 0 0 2 2 1 0 2 2 2 1 2 2 2 1 0 1 2 0 2 2 0 1\n",
      " 0 1 0 1 0 0 2 2 0 1 1 1 2 1 0 2 1 1 1 2 1 2 0 2 2 0 1 0 0 1 0 2 2 2 0 2 2\n",
      " 1 2 1 1 0 1 1 2 0 0 2 0 0 0 1 1]\n",
      "0.9111111111111111\n",
      "Enter test size.9\n",
      "[0 0 2 0 2 2 2 2 0 2 0 1 1 2 2 0 0 2 1 1 2 1 1 0 0 0 2 0 0 2 1 2 1 0 0 2 0\n",
      " 1 0 0 2 1 1 2 0 1 1 1 1 0 2 1 2 2 1 2 1 0 2 1 2 0 1 2 1 1 1 0 2 1 0 0 1 2\n",
      " 1 2 2 1 0 1 0 1 1 0 2 2 0 1 1 1 2 2 1 2 1 0 2 1 1 0 1 2 1 1 0 1 2 2 1 0 0\n",
      " 1 0 1 1 1 1 0 0 2 1 0 0 2 1 0 1 2 1 1 1 0 2 1 0]\n",
      "actual output\n",
      "[0 0 2 0 2 2 2 2 0 2 0 1 1 2 2 0 0 2 2 1 2 1 1 0 0 0 2 0 0 2 1 2 2 0 0 2 0\n",
      " 2 0 0 2 1 1 2 0 1 1 1 1 0 2 1 2 2 1 2 1 0 2 1 2 0 2 2 1 1 1 0 2 1 0 0 1 2\n",
      " 1 2 2 1 0 1 0 1 1 0 2 2 0 1 1 1 2 2 1 2 1 0 2 1 2 0 1 2 1 1 0 1 2 1 2 0 0\n",
      " 1 0 2 2 1 1 0 0 2 1 0 0 2 1 0 1 2 1 1 2 0 2 1 0]\n",
      "0.9259259259259259\n",
      "Enter test size.6\n",
      "[2 0 0 0 1 1 2 2 1 1 1 1 1 1 2 0 0 0 0 0 2 0 2 1 1 0 1 0 1 2 0 1 2 2 0 1 1\n",
      " 2 0 0 1 1 2 1 1 2 2 1 1 2 1 1 1 2 0 1 2 2 1 0 0 0 0 2 1 1 1 2 0 2 0 1 1 1\n",
      " 1 1 1 0 1 1 0 1 0 2 1 1 0 0 2 2]\n",
      "actual output\n",
      "[2 0 0 0 1 2 2 2 1 2 1 1 1 2 2 0 0 0 0 0 2 0 2 1 1 0 1 0 1 2 0 1 2 2 0 1 2\n",
      " 2 0 0 1 1 2 1 1 2 2 1 1 1 2 1 1 2 0 1 2 2 1 0 0 0 0 2 1 2 2 2 0 2 0 2 1 1\n",
      " 1 2 1 0 1 1 0 1 0 2 1 1 0 0 2 2]\n",
      "0.8888888888888888\n",
      "Enter test size.4\n"
     ]
    },
    {
     "name": "stderr",
     "output_type": "stream",
     "text": [
      "No handles with labels found to put in legend.\n"
     ]
    },
    {
     "name": "stdout",
     "output_type": "stream",
     "text": [
      "[1 2 2 1 1 0 0 1 2 1 1 2 2 0 2 0 1 1 1 0 0 1 0 1 0 1 0 2 0 0 2 1 2 1 2 1 1\n",
      " 2 0 0 0 2 0 1 0 1 1 0 0 2 1 2 2 2 1 0 0 2 2 0]\n",
      "actual output\n",
      "[1 2 2 1 1 0 0 1 2 1 1 2 2 0 2 0 1 1 1 0 0 2 0 1 0 1 0 2 0 0 2 1 2 1 2 2 1\n",
      " 2 0 0 0 2 0 1 0 1 1 0 0 2 1 2 2 2 1 0 0 2 1 0]\n",
      "0.95\n"
     ]
    },
    {
     "data": {
      "image/png": "[encoded data removed]",
      "text/plain": [
       "<Figure size 432x288 with 1 Axes>"
      ]
     },
     "metadata": {},
     "output_type": "display_data"
    }
   ],
   "source": [
    "from sklearn.datasets import load_iris\n",
    "from sklearn import tree\n",
    "#this library is used to split data into testing and training datasets\n",
    "from sklearn.model_selection import train_test_split\n",
    "#this is used to calculate % between actual output and given output\n",
    "from sklearn.metrics import accuracy_score\n",
    "#Library used to plot graph\n",
    "import matplotlib.pyplot as plt\n",
    "\n",
    "print(\"-----DECISION TREE CLASIFIER-----\")\n",
    "iris=load_iris()\n",
    "l1=[]\n",
    "l2=[]\n",
    "#p is test size\n",
    "for i in range(1,6):\n",
    "    p=float (input(\"Enter test size\"))\n",
    "    \n",
    "#Spliting data\n",
    "#iris data gives features data\n",
    "#iris target gives data related to target output i.e., which flower it is\n",
    "#0.05 means 5% of data is splitted for testing\n",
    "    x,y,z,a=train_test_split(iris.data,iris.target,test_size=p)\n",
    "    l1.append(p)\n",
    "    #print('l1-----',l1)\n",
    "    '''\n",
    "    x=train data features\n",
    "    y=test data_features(data to be tested)\n",
    "    z=train_target\n",
    "    a=test_target\n",
    "    '''\n",
    "    clf=tree.DecisionTreeClassifier()\n",
    "    trained=clf.fit(x,z)\n",
    "    output=trained.predict(y)\n",
    "    print(\"trained output\",output)\n",
    "    print(\"actual output\")\n",
    "    print(a)\n",
    "    pct=accuracy_score(output,a)\n",
    "    print(pct)\n",
    "    l2.append(pct)\n",
    "    \n",
    "#plotting graph between testsizes and accuracy score\n",
    "plt.xlabel(\"test_sizes\") #used to give names to x-axis\n",
    "plt.ylabel(\"accuracy score\") #used to give names to y-axis\n",
    "plt.scatter(l1,l2)\n",
    "plt.grid(color='y')\n",
    "plt.legend()\n",
    "plt.show()\n",
    "    \n",
    "    #decision tree of given data\n",
    "    #tree.export_graphviz(clf,out_file=\"decision_tree.dot\",max_depth=6,features_names=iris.feature_names,class_names=iris.target_names,label='all',filled=True,node_ids=True,rounded=True)\n",
    "    \n",
    "    \n",
    "    \n",
    "    \n",
    "    \n",
    "    \n",
    "    \n",
    "    \n",
    "    \n",
    "    \n",
    "    \n",
    "    \n",
    "    \n",
    "    \n",
    "    \n",
    "    \n",
    "    \n",
    "    \n",
    "    \n",
    "    \n",
    "    \n",
    "    \n",
    "    \n",
    "    \n",
    "\n",
    "    \n",
    "    \n",
    "    \n",
    "    \n",
    "    \n",
    "    \n",
    "    \n",
    "    "
   ]
  },
  {
   "cell_type": "markdown",
   "metadata": {},
   "source": [
    "###### "
   ]
  },
  {
   "cell_type": "code",
   "execution_count": null,
   "metadata": {},
   "outputs": [],
   "source": []
  }
 ],
 "metadata": {
  "kernelspec": {
   "display_name": "Python 3",
   "language": "python",
   "name": "python3"
  },
  "language_info": {
   "codemirror_mode": {
    "name": "ipython",
    "version": 3
   },
   "file_extension": ".py",
   "mimetype": "text/x-python",
   "name": "python",
   "nbconvert_exporter": "python",
   "pygments_lexer": "ipython3",
   "version": "3.5.2"
  }
 },
 "nbformat": 4,
 "nbformat_minor": 2
}
